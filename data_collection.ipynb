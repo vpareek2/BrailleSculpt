{
 "cells": [
  {
   "cell_type": "code",
   "execution_count": 6,
   "metadata": {},
   "outputs": [],
   "source": [
    "bin_to_braille = {\n",
    "    '100000' : '⠁',\n",
    "    '110000' : '⠃',\n",
    "    '100100' : '⠉',\n",
    "    '100110' : '⠙',\n",
    "    '100010' : '⠑',\n",
    "    '110100' : '⠋',\n",
    "    '110110' : '⠛',\n",
    "    '110010' : '⠓',\n",
    "    '010100' : '⠊',\n",
    "    '010110' : '⠚',\n",
    "    '101000' : '⠅',\n",
    "    '111000' : '⠇',\n",
    "    '101100' : '⠍',\n",
    "    '101110' : '⠝',\n",
    "    '101010' : '⠕',\n",
    "    '111100' : '⠏',\n",
    "    '111110' : '⠟',\n",
    "    '111010' : '⠗',\n",
    "    '011100' : '⠎',\n",
    "    '011110' : '⠞',\n",
    "    '101001' : '⠥',\n",
    "    '111001' : '⠧',\n",
    "    '010111' : '⠺',\n",
    "    '101101' : '⠭',\n",
    "    '101111' : '⠽',\n",
    "    '101011' : '⠵',\n",
    "    '000000' : ' '}\n",
    "\n",
    "eng_to_bin = {\n",
    "    'a' : '100000',\n",
    "    'b' : '110000',\n",
    "    'c' : '100100',\n",
    "    'd' : '100110',\n",
    "    'e' : '100010',\n",
    "    'f' : '110100',\n",
    "    'g' : '110110',\n",
    "    'h' : '110010',\n",
    "    'i' : '010100',\n",
    "    'j' : '010110',\n",
    "    'k' : '101000',\n",
    "    'l' : '111000',\n",
    "    'm' : '101100',\n",
    "    'n' : '101110',\n",
    "    'o' : '101010',\n",
    "    'p' : '111100',\n",
    "    'q' : '111110',\n",
    "    'r' : '111010',\n",
    "    's' : '011100',\n",
    "    't' : '011110',\n",
    "    'u' : '101001',\n",
    "    'v' : '111001',\n",
    "    'w' : '010111',\n",
    "    'x' : '101101',\n",
    "    'y' : '101111',\n",
    "    'z' : '101011',\n",
    "    ' ' : '000000'}"
   ]
  },
  {
   "cell_type": "code",
   "execution_count": 7,
   "metadata": {},
   "outputs": [],
   "source": [
    "import json\n",
    "\n",
    "# Combine your dictionaries\n",
    "data = {\n",
    "    'bin_to_braille': bin_to_braille,\n",
    "    'eng_to_bin': eng_to_bin\n",
    "}\n",
    "\n",
    "# Write to a JSON file\n",
    "with open('braille_translation.json', 'w') as file:\n",
    "    json.dump(data, file)\n"
   ]
  },
  {
   "cell_type": "code",
   "execution_count": 8,
   "metadata": {},
   "outputs": [],
   "source": [
    "# Read from a JSON file\n",
    "with open('braille_translation.json', 'r') as file:\n",
    "    data = json.load(file)\n",
    "\n",
    "bin_to_braille = data['bin_to_braille']\n",
    "eng_to_bin = data['eng_to_bin']\n"
   ]
  }
 ],
 "metadata": {
  "kernelspec": {
   "display_name": "Python 3",
   "language": "python",
   "name": "python3"
  },
  "language_info": {
   "codemirror_mode": {
    "name": "ipython",
    "version": 3
   },
   "file_extension": ".py",
   "mimetype": "text/x-python",
   "name": "python",
   "nbconvert_exporter": "python",
   "pygments_lexer": "ipython3",
   "version": "3.9.6"
  }
 },
 "nbformat": 4,
 "nbformat_minor": 2
}
